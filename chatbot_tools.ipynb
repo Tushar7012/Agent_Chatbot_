{
 "cells": [
  {
   "cell_type": "code",
   "execution_count": 1,
   "id": "8c50cfcf",
   "metadata": {},
   "outputs": [],
   "source": [
    "from langchain_community.tools import ArxivQueryRun,WikipediaQueryRun\n",
    "from langchain_community.utilities import WikipediaAPIWrapper,ArxivAPIWrapper"
   ]
  },
  {
   "cell_type": "code",
   "execution_count": 2,
   "id": "29668d8b",
   "metadata": {},
   "outputs": [
    {
     "name": "stdout",
     "output_type": "stream",
     "text": [
      "arxiv\n"
     ]
    }
   ],
   "source": [
    "# Creating a Wrapper on the To of each and every tool\n",
    "api_wrapper_arxiv = ArxivAPIWrapper(top_k_results = 2,docs_content_max = 500)\n",
    "arxiv = ArxivQueryRun(api_wrapper=api_wrapper_arxiv,description=\"Query Arxiv Papers\")\n",
    "print(arxiv.name)"
   ]
  },
  {
   "cell_type": "code",
   "execution_count": 3,
   "id": "f6a80e31",
   "metadata": {},
   "outputs": [
    {
     "data": {
      "text/plain": [
       "\"Published: 2024-07-22\\nTitle: Attention Is All You Need But You Don't Need All Of It For Inference of Large Language Models\\nAuthors: Georgy Tyukin, Gbetondji J-S Dovonon, Jean Kaddour, Pasquale Minervini\\nSummary: The inference demand for LLMs has skyrocketed in recent months, and serving\\nmodels with low latencies remains challenging due to the quadratic input length\\ncomplexity of the attention layers. In this work, we investigate the effect of\\ndropping MLP and attention layers at inference time on the performance of\\nLlama-v2 models. We find that dropping dreeper attention layers only marginally\\ndecreases performance but leads to the best speedups alongside dropping entire\\nlayers. For example, removing 33\\\\% of attention layers in a 13B Llama2 model\\nresults in a 1.8\\\\% drop in average performance over the OpenLLM benchmark. We\\nalso observe that skipping layers except the latter layers reduces performances\\nfor more layers skipped, except for skipping the attention layers.\\n\\nPublished: 2021-07-16\\nTitle: All the attention you need: Global-local, spatial-channel attention for image retrieval\\nAuthors: Chull Hwan Song, Hye Joo Han, Yannis Avrithis\\nSummary: We address representation learning for large-scale instance-level image\\nretrieval. Apart from backbone, training pipelines and loss functions, popular\\napproaches have focused on different spatial pooling and attention mechanisms,\\nwhich are at the core of learning a powerful global image representation. There\\nare different forms of attention according to the interaction of elements of\\nthe feature tensor (local and global) and the dimensions where it is applied\\n(spatial and channel). Unfortunately, each study addresses only one or two\\nforms of attention and applies it to different problems like classification,\\ndetection or retrieval.\\n  We present global-local attention module (GLAM), which is attached at the end\\nof a backbone network and incorporates all four forms of attention: local and\\nglobal, spatial and channel. We obtain a new feature tensor and, by spatial\\npooling, we learn a powerful embedding for image retrieval. Focusing on global\\ndescriptors, we provide empirical evidence of the interaction of all forms of\\nattention and improve the state of the art on standard benchmarks.\""
      ]
     },
     "execution_count": 3,
     "metadata": {},
     "output_type": "execute_result"
    }
   ],
   "source": [
    "arxiv.invoke(\"Attention is all you need\")"
   ]
  },
  {
   "cell_type": "code",
   "execution_count": 4,
   "id": "33e72d56",
   "metadata": {},
   "outputs": [
    {
     "name": "stdout",
     "output_type": "stream",
     "text": [
      "api_wrapper=WikipediaAPIWrapper(wiki_client=<module 'wikipedia' from 'd:\\\\conda_envs\\\\myenv\\\\Lib\\\\site-packages\\\\wikipedia\\\\__init__.py'>, top_k_results=1, lang='en', load_all_available_meta=False, doc_content_chars_max=500)\n"
     ]
    }
   ],
   "source": [
    "# Similarly for the Wikipedia Tool\n",
    "api_wrapper_wiki = WikipediaAPIWrapper(top_k_results=1,doc_content_chars_max=500)\n",
    "wiki = WikipediaQueryRun(api_wrapper = api_wrapper_wiki)\n",
    "\n",
    "print(wiki)\n"
   ]
  },
  {
   "cell_type": "code",
   "execution_count": 5,
   "id": "c97a69ac",
   "metadata": {},
   "outputs": [
    {
     "data": {
      "text/plain": [
       "'Page: Family of Mahatma Gandhi\\nSummary: The Gandhi family is the family of Mohandas Karamchand Gandhi (2 October 1869 – 30 January 1948), commonly known as Mahatma Gandhi; Mahatma meaning \"high souled\" or \"venerable\" in Sanskrit;  the particular term \\'Mahatma\\' was accorded Mohandas Gandhi for the first time while he was still in South Africa, and not commonly heard as titular for any other civil figure even of similarly rarefied stature or living or posthumous presence.\\nMohandas Gandhi was the l'"
      ]
     },
     "execution_count": 5,
     "metadata": {},
     "output_type": "execute_result"
    }
   ],
   "source": [
    "wiki.invoke(\"Who is Mahatma Gandhi?\")"
   ]
  },
  {
   "cell_type": "code",
   "execution_count": 6,
   "id": "f37ef32e",
   "metadata": {},
   "outputs": [],
   "source": [
    "from dotenv import load_dotenv\n",
    "load_dotenv()\n",
    "import os\n",
    "os.environ[\"GROQ_API_KEY\"]  = os.getenv(\"GROQ_API_KEY\")\n",
    "os.environ[\"TAVILY_API_KEY\"] = os.getenv(\"TAVILY_API_KEY\")\n"
   ]
  },
  {
   "cell_type": "code",
   "execution_count": 7,
   "id": "1ff37e3a",
   "metadata": {},
   "outputs": [
    {
     "data": {
      "text/plain": [
       "[{'title': 'Artificial intelligence - NBC News',\n",
       "  'url': 'https://www.nbcnews.com/artificial-intelligence',\n",
       "  'content': \"ARTIFICIAL INTELLIGENCE\\nThe latest news and top stories on artificial intelligence, including ChatGPT, AI Chatbot and Bard.\\n Getty Images\\nARTIFICIAL INTELLIGENCE\\n'Billionaires versus billionaires': OpenAI feud between Elon Musk, Sam Altman faces federal judge\\n SeongJoon Cho / Bloomberg via Getty Images file\\nARTIFICIAL INTELLIGENCE\\nOpenAI partners with U.S. National Laboratories on scientific research, nuclear weapons security\\nAI NEWS\",\n",
       "  'score': 0.8047902},\n",
       " {'title': 'Artificial Intelligence News - ScienceDaily',\n",
       "  'url': 'https://www.sciencedaily.com/news/computers_math/artificial_intelligence/',\n",
       "  'content': \"Using Robots in Nursing Homes Linked to Higher Employee Retention, Better Patient Care\\n\\nMonday, January 6, 2025\\n\\nAI Slashes Cost and Time for Chip Design, but That Is Not All\\n\\nThursday, January 2, 2025\\n\\nArtificial Intelligence: Algorithms Improve Medical Image Analysis\\n\\nFriday, December 27, 2024\\n\\nCrossing the Uncanny Valley: Breakthrough in Technology for Lifelike Facial Expressions in Androids\\n\\nThursday, December 26, 2024\\n\\nWind Sensing by Biomimetic Flexible Flapping Wing With Strain Sensors [...] Tuesday, November 12, 2024\\n\\nGiving Robots Superhuman Vision Using Radio Signals\\n\\nMonday, November 11, 2024\\n\\nAI Can Detect Serious Neurologic Changes in Babies in the NICU Using Video Data Alone\\nRobot That Watched Surgery Videos Performs With Skill of Human Doctor, Researchers Report\\n\\nThursday, November 7, 2024\\n\\nRobot Learns How to Clean a Washbasin\\n\\nWednesday, November 6, 2024\\n\\nAI-Driven Mobile Robots Team Up to Tackle Chemical Synthesis\\n\\nThursday, October 31, 2024 [...] Monday, February 10, 2025\\n\\nTruly Autonomous AI Is on the Horizon\\nScientists Enhance Smart Home Security With AIoT and WiFi\\nPhysician's Medical Decisions Benefit from Chatbot, Study Suggests\\n\\nMonday, February 3, 2025\\n\\nUser-Friendly System Can Help Developers Build More Efficient Simulations and AI Models\\n\\nWednesday, January 29, 2025\\n\\nNew Training Approach Could Help AI Agents Perform Better in Uncertain Conditions\\n\\nTuesday, January 28, 2025\",\n",
       "  'score': 0.77137923},\n",
       " {'title': 'AI News | Latest AI News, Analysis & Events',\n",
       "  'url': 'https://www.artificialintelligence-news.com/',\n",
       "  'content': 'Marketing Tech News\\nApril 16, 2025\\nOpenAI explores social platform following $40B funding round\\n\\nAI News\\nApril 15, 2025\\nMeta will train AI models using EU user data\\n\\nDeveloper Tech News\\nApril 15, 2025\\nMasquerading payment npm package installs backdoor\\n\\nTelecoms Tech News\\nApril 15, 2025\\nFCC chair calls EU satellite strategy ‘anti-American’\\nSubscribe\\nAll our premium content and latest tech news delivered straight to your inbox\\nSubscribe\\n\\n\\n\\n\\n\\n\\n\\nExplore [...] Applications, Artificial Intelligence, Companies, DeepMind, Google, Industries\\nApril 14, 2025\\nIEA: The opportunities and challenges of AI for global energy\\nApplications, Artificial Intelligence, Energy, Ethics & Society, Industries, Research\\nApril 10, 2025\\nSpot AI introduces the world’s first universal AI agent builder for security cameras\\nApplications, Artificial Intelligence, Healthcare, Security\\nApril 10, 2025\\nDeep Learning\\nAlibaba Qwen QwQ-32B: Scaled reinforcement learning showcase [...] Latest\\nView All Latest\\n\\nApplications, Artificial Intelligence, Chatbots\\nApril 14, 2025\\nChatGPT got another viral moment with ‘AI action figure’ trend\\n\\nArtificial Intelligence, Companies, Development, Enterprise, Interviews, Legislation & Government, Research\\nApril 11, 2025\\nBCG: Analysing the geopolitics of generative AI\\n\\nAGI, Artificial Intelligence, Companies, Development\\nApril 10, 2025\\nOpenAI counter-sues Elon Musk for attempts to ‘take down’ AI rival',\n",
       "  'score': 0.767847},\n",
       " {'title': 'AI News & Artificial Intelligence - TechCrunch',\n",
       "  'url': 'https://techcrunch.com/category/artificial-intelligence/',\n",
       "  'content': 'Sign In \\nSearch\\nSubmit\\nSite Search Toggle\\nMega Menu Toggle\\nTopics\\nLatest\\nAI\\nAmazon\\nApps\\nBiotech & Health\\nClimate\\nCloud Computing\\nCommerce\\nCrypto\\nEnterprise\\nEVs\\nFintech\\nFundraising\\nGadgets\\nGaming\\nGoogle\\nGovernment & Policy\\nHardware\\nInstagram\\nLayoffs\\nMedia & Entertainment\\nMeta\\nMicrosoft\\nPrivacy\\nRobotics\\nSecurity\\nSocial\\nSpace\\nStartups\\nTikTok\\nTransportation\\nVenture\\nMore from TechCrunch\\nEvents\\nStartup Battlefield\\nStrictlyVC\\nNewsletters\\nPodcasts\\nVideos\\nPartner Content\\nTechCrunch Brand Studio [...] 1 day ago\\n\\n\\n\\nAI\\nOpenAI hires team behind GV-backed AI eval platform Context.ai\\n\\nIvan Mehta\\n\\n1 day ago\\n\\n\\n\\nAI\\nAnthropic forms a new team to grow its AWS business\\n\\nKyle Wiggers\\n\\n2 days ago\\n\\n\\n\\nAI\\nAnthropic’s Claude can now read your Gmail\\n\\nMaxwell Zeff\\n\\n2 days ago\\n\\n\\n\\nAI\\nGoogle’s Veo 2 video generating model comes to Gemini\\n\\nKyle Wiggers\\n\\n2 days ago\\n\\n\\n\\nAI\\nWitness a dynamic dialogue between two visionary CEOs\\n\\nCindy Zackney\\n\\n2 days ago\\n\\n\\n\\nIn Brief [...] Headlines Only\\nLoad More\\n\\n\\n\\nAI\\nxAI adds a ‘memory’ feature to Grok\\n\\nKyle Wiggers\\n\\n4 hours ago\\n\\n\\n\\nIn Brief\\n\\nTrump administration reportedly considers a US DeepSeek ban\\n\\nMaxwell Zeff\\n\\n7 hours ago\\n\\n\\n\\nAI\\nOpenAI’s latest AI models have a new safeguard to prevent biorisks\\n\\nMaxwell Zeff\\n\\n9 hours ago\\n\\n\\n\\nAI\\nOpenAI is reportedly in talks to buy Windsurf for $3B, with news expected later this week\\n\\nMarina Temkin\\n\\n10 hours ago',\n",
       "  'score': 0.7043437},\n",
       " {'title': 'Artificial Intelligence - Latest AI News and Analysis - WSJ.com',\n",
       "  'url': 'https://www.wsj.com/tech/ai',\n",
       "  'content': 'McDonald’s Gives Its Restaurants an AI Makeover\\nThe fast-food giant’s new initiative uses artificial intelligence to target order accuracy and help restaurants detect equipment issues before they fail.\\nBy\\nIsabelle Bousquetteand\\nBelle Lin\\n4 min read\\n\\nBeijing Ramps Up Efforts For Tech Independence\\nIn a speech to the country’s lawmakers, Chinese Premier Li Qiang said AI would be key to boosting China’s digital economy.\\nBy\\nRaffaele Huang\\n1 min read',\n",
       "  'score': 0.6607204}]"
      ]
     },
     "execution_count": 7,
     "metadata": {},
     "output_type": "execute_result"
    }
   ],
   "source": [
    "# Tavily Search Tools\n",
    "from langchain_community.tools.tavily_search import TavilySearchResults\n",
    "tavily  = TavilySearchResults()\n",
    "tavily.invoke(\"What are the latest news regarding AI?\")"
   ]
  },
  {
   "cell_type": "code",
   "execution_count": 8,
   "id": "ebd22ebf",
   "metadata": {},
   "outputs": [],
   "source": [
    "# Combining all these tools for the LLm\n",
    "tools = [arxiv,wiki,tavily]\n",
    "\n",
    "# Initialize the Model\n",
    "from langchain_groq import ChatGroq\n",
    "llm = ChatGroq(model=\"qwen-qwq-32b\")\n"
   ]
  },
  {
   "cell_type": "code",
   "execution_count": 9,
   "id": "492b692a",
   "metadata": {},
   "outputs": [
    {
     "data": {
      "text/plain": [
       "AIMessage(content='\\n<think>\\nOkay, the user is asking about \"cookie\" as a snack. Let me start by defining what a cookie is. I know cookies are baked snacks, so I should mention the basic ingredients like flour, sugar, butter, and maybe some additives for flavor.\\n\\nWait, maybe I should also differentiate between types of cookies. There are so many variations—like chocolate chip, oatmeal, macarons, and shortbread. Including examples would make the explanation clearer.\\n\\nI should also talk about their texture. Some are crispy, others are chewy or soft. That\\'s important because texture is a key aspect of cookies. Oh, and cultural differences! I remember that in the UK they call them biscuits, right? So mentioning that could be helpful, especially if the user is from a different country.\\n\\nWhat about the history? It might be useful to note that cookies originated as a way to test baking temperatures, like the origin of the term \"test cake.\" But maybe that\\'s too much detail for a simple definition. Hmm.\\n\\nAlso, the ingredients can vary. Some use alternative flours or sweeteners. Maybe mention that? And baking processes—different techniques affect the outcome. Like using refrigeration or chilling the dough first.\\n\\nWait, the user might also be interested in how cookies are served. They can be enjoyed plain, with milk, or part of desserts. Should I include serving suggestions?\\n\\nOh, and dietary preferences. There are gluten-free and vegan options now. Including that shows they\\'re adaptable for different diets.\\n\\nLet me structure this: start with a basic definition, then ingredients, types, texture, cultural names, and maybe a bit about their popularity and serving. Keep it clear and concise without getting too technical. Make sure to highlight the key points so the user gets a comprehensive understanding without overwhelming them.\\n</think>\\n\\nA **cookie**, often referred to as a **biscuit** outside the United States and Canada, is a popular baked snack made from ingredients such as **flour, sugar, butter, eggs, and leavening agents** (like baking soda or baking powder). They are typically small, flat, and often sweetened, though some varieties can be savory. \\n\\n### Key Characteristics:\\n1. **Ingredients**:  \\n   - Base ingredients usually include flour, sugar, and fat (butter, oil, or shortening).  \\n   - Additions like chocolate chips, nuts, spices, or extracts (e.g., vanilla) add flavor and texture.  \\n   - Gluten-free or vegan options use alternatives like almond flour or plant-based oils.\\n\\n2. **Texture**:  \\n   - Varies widely depending on the recipe:  \\n     - **Crispy** (e.g., shortbread),  \\n     - **Chewy** (e.g., chocolate chip),  \\n     - **Soft** (e.g., sandwich cookies with filling),  \\n     - **Crumbly** (e.g., ginger snaps).\\n\\n3. **Types**:  \\n   - Classic examples include **chocolate chip**, **oatmeal**, **macarons**, **biscotti**, and **spritz**.  \\n   - Regional variations exist, such as **Scottish shortbread**, **German Lebkuchen**, or **Japanese melon pan**.\\n\\n4. **Cultural Names**:  \\n   - **UK/Ireland/Australia**: \"Biscuit.\"  \\n   - **India**: \"Biscuit\" or \"cookie\" (e.g., Marie biscuit).  \\n   - **France**: \"Biscuit\" (from the Latin *bis coctum*, meaning \"twice-baked\").\\n\\n5. **Serving**:  \\n   - Eaten plain, dipped in milk, coffee, or paired with tea.  \\n   - Used in desserts (e.g., ice cream sandwiches, cookie dough treats).\\n\\n### History:\\nCookies originated as small test cakes (hence \"test bake\"), later evolving into the varied snacks we know today. They are enjoyed globally and come in countless flavors and styles, adapting to dietary trends like gluten-free or low-sugar options.\\n\\nIn short, a cookie is a versatile, portable treat that combines simplicity and creativity, beloved for its convenience and indulgent appeal! 🍪', additional_kwargs={}, response_metadata={'token_usage': {'completion_tokens': 855, 'prompt_tokens': 19, 'total_tokens': 874, 'completion_time': 2.128095453, 'prompt_time': 0.005800302, 'queue_time': 0.35787113400000004, 'total_time': 2.133895755}, 'model_name': 'qwen-qwq-32b', 'system_fingerprint': 'fp_a91d9c2cfb', 'finish_reason': 'stop', 'logprobs': None}, id='run-17e128fd-4b97-445a-9ce1-68f65c01df46-0', usage_metadata={'input_tokens': 19, 'output_tokens': 855, 'total_tokens': 874})"
      ]
     },
     "execution_count": 9,
     "metadata": {},
     "output_type": "execute_result"
    }
   ],
   "source": [
    "llm.invoke(\"What is a cookie in terms of snacks?\")"
   ]
  },
  {
   "cell_type": "code",
   "execution_count": 10,
   "id": "8b95429c",
   "metadata": {},
   "outputs": [
    {
     "data": {
      "text/plain": [
       "AIMessage(content='', additional_kwargs={'tool_calls': [{'id': 'call_xkqc', 'function': {'arguments': '{\"query\": \"Capital of India\"}', 'name': 'wikipedia'}, 'type': 'function'}]}, response_metadata={'token_usage': {'completion_tokens': 181, 'prompt_tokens': 355, 'total_tokens': 536, 'completion_time': 0.441498265, 'prompt_time': 0.030671076, 'queue_time': 0.233486322, 'total_time': 0.472169341}, 'model_name': 'qwen-qwq-32b', 'system_fingerprint': 'fp_512a3da6bb', 'finish_reason': 'tool_calls', 'logprobs': None}, id='run-9b885ae7-15b1-4dd1-a399-dd4a133db5ab-0', tool_calls=[{'name': 'wikipedia', 'args': {'query': 'Capital of India'}, 'id': 'call_xkqc', 'type': 'tool_call'}], usage_metadata={'input_tokens': 355, 'output_tokens': 181, 'total_tokens': 536})"
      ]
     },
     "execution_count": 10,
     "metadata": {},
     "output_type": "execute_result"
    }
   ],
   "source": [
    "# Combined the tools to the LLM\n",
    "llm_with_tools = llm.bind_tools(tools = tools)\n",
    "llm = llm_with_tools\n",
    "\n",
    "llm .invoke(\"What is the capital of India?\")\n",
    "\n",
    "##  Here we are going to use the Wikipedia tool for the Search."
   ]
  },
  {
   "cell_type": "code",
   "execution_count": 11,
   "metadata": {},
   "outputs": [
    {
     "data": {
      "text/plain": [
       "AIMessage(content='', additional_kwargs={'tool_calls': [{'id': 'call_str2', 'function': {'arguments': '{\"query\": \"quantum computing\"}', 'name': 'arxiv'}, 'type': 'function'}]}, response_metadata={'token_usage': {'completion_tokens': 217, 'prompt_tokens': 357, 'total_tokens': 574, 'completion_time': 0.530514557, 'prompt_time': 0.031015572, 'queue_time': 0.24348541299999998, 'total_time': 0.561530129}, 'model_name': 'qwen-qwq-32b', 'system_fingerprint': 'fp_07cd5d759a', 'finish_reason': 'tool_calls', 'logprobs': None}, id='run-2df162ee-dc9d-47ee-a875-a9aabfd689b9-0', tool_calls=[{'name': 'arxiv', 'args': {'query': 'quantum computing'}, 'id': 'call_str2', 'type': 'tool_call'}], usage_metadata={'input_tokens': 357, 'output_tokens': 217, 'total_tokens': 574})"
      ]
     },
     "execution_count": 11,
     "metadata": {},
     "output_type": "execute_result"
    }
   ],
   "source": [
    "llm.invoke(\"what is the latest research on quantum computing?\")"
   ]
  },
  {
   "cell_type": "markdown",
   "id": "565f3064",
   "metadata": {},
   "source": [
    "## WORKFLOW"
   ]
  },
  {
   "cell_type": "code",
   "execution_count": 12,
   "id": "094f5e0c",
   "metadata": {},
   "outputs": [],
   "source": [
    "from typing_extensions import TypedDict\n",
    "from langchain_core.messages import AnyMessage\n",
    "from typing_extensions import Annotated\n",
    "from langgraph.graph.message import add_messages"
   ]
  },
  {
   "cell_type": "code",
   "execution_count": 13,
   "id": "d9d35138",
   "metadata": {},
   "outputs": [],
   "source": [
    "class State(TypedDict):\n",
    "    messages:Annotated[list[AnyMessage],add_messages]"
   ]
  },
  {
   "cell_type": "code",
   "execution_count": 14,
   "id": "5c9c5f46",
   "metadata": {},
   "outputs": [],
   "source": [
    "# Creating the Nodes (AI Assitant,Tools and then creating the edges for connecting the node)\n",
    "\n",
    "\"\"\"\"\n",
    "        Always remember that here we are going to have the -->\n",
    "        📦 langgraph is a framework for building graph-based agents—a visual and logical flow of reasoning and actions.\n",
    "\n",
    "StateGraph: The main class to define your agent as a state machine (nodes and edges).\n",
    "\n",
    "START, END: Special keywords to mark where the agent begins and ends in the graph.\n",
    "\n",
    "      🛠️ ToolNode is a prebuilt node type in LangGraph.\n",
    "\n",
    "It's designed to let the agent call tools (e.g., Google search, calculator, file reader, database).\n",
    "\n",
    "It wraps your tools and allows the agent to select and use them as actions.\n",
    "\n",
    "🔀 This is a control flow function.\n",
    "\n",
    "It decides: Which tool should be used based on the agent’s intent?\n",
    "\n",
    "In ReAct agents, this is part of the \"Act\" step — deciding what action/tool to use based on reasoning.\n",
    "\n",
    "\"\"\"\n",
    "\n",
    "from IPython.display import Image,display   #This is for displaying images \n",
    "from langgraph.graph import StateGraph,START,END\n",
    "from langgraph.prebuilt import ToolNode\n",
    "from langgraph.prebuilt import tools_condition"
   ]
  },
  {
   "cell_type": "code",
   "execution_count": 15,
   "id": "a02a8c8f",
   "metadata": {},
   "outputs": [
    {
     "data": {
      "image/png": "[encoded data removed]",
      "text/plain": [
       "<IPython.core.display.Image object>"
      ]
     },
     "metadata": {},
     "output_type": "display_data"
    }
   ],
   "source": [
    "### Node definition\n",
    "def tool_calling_llm(state:State):\n",
    "    return {\"messages\":[llm_with_tools.invoke(state[\"messages\"])]}\n",
    "\n",
    "# Build graph\n",
    "builder = StateGraph(State)\n",
    "builder.add_node(\"tool_calling_llm\", tool_calling_llm)\n",
    "builder.add_node(\"tools\", ToolNode(tools))\n",
    "\n",
    "## Edgess\n",
    "builder.add_edge(START, \"tool_calling_llm\")\n",
    "builder.add_conditional_edges(\n",
    "    \"tool_calling_llm\",\n",
    "    # If the latest message (result) from assistant is a tool call -> tools_condition routes to tools\n",
    "    # If the latest message (result) from assistant is a not a tool call -> tools_condition routes to END\n",
    "    tools_condition,\n",
    ")\n",
    "builder.add_edge(\"tools\", END)\n",
    "\n",
    "graph = builder.compile()\n",
    "\n",
    "# View\n",
    "display(Image(graph.get_graph().draw_mermaid_png()))"
   ]
  },
  {
   "cell_type": "code",
   "execution_count": 16,
   "metadata": {},
   "outputs": [
    {
     "name": "stdout",
     "output_type": "stream",
     "text": [
      "================================\u001b[1m Human Message \u001b[0m=================================\n",
      "\n",
      "1706.03762\n",
      "==================================\u001b[1m Ai Message \u001b[0m==================================\n",
      "Tool Calls:\n",
      "  arxiv (call_1rxf)\n",
      " Call ID: call_1rxf\n",
      "  Args:\n",
      "    query: 1706.03762\n",
      "=================================\u001b[1m Tool Message \u001b[0m=================================\n",
      "Name: arxiv\n",
      "\n",
      "Published: 2023-08-02\n",
      "Title: Attention Is All You Need\n",
      "Authors: Ashish Vaswani, Noam Shazeer, Niki Parmar, Jakob Uszkoreit, Llion Jones, Aidan N. Gomez, Lukasz Kaiser, Illia Polosukhin\n",
      "Summary: The dominant sequence transduction models are based on complex recurrent or\n",
      "convolutional neural networks in an encoder-decoder configuration. The best\n",
      "performing models also connect the encoder and decoder through an attention\n",
      "mechanism. We propose a new simple network architecture, the Transformer, based\n",
      "solely on attention mechanisms, dispensing with recurrence and convolutions\n",
      "entirely. Experiments on two machine translation tasks show these models to be\n",
      "superior in quality while being more parallelizable and requiring significantly\n",
      "less time to train. Our model achieves 28.4 BLEU on the WMT 2014\n",
      "English-to-German translation task, improving over the existing best results,\n",
      "including ensembles by over 2 BLEU. On the WMT 2014 English-to-French\n",
      "translation task, our model establishes a new single-model state-of-the-art\n",
      "BLEU score of 41.8 after training for 3.5 days on eight GPUs, a small fraction\n",
      "of the training costs of the best models from the literature. We show that the\n",
      "Transformer generalizes well to other tasks by applying it successfully to\n",
      "English constituency parsing both with large and limited training data.\n"
     ]
    }
   ],
   "source": [
    "messages=graph.invoke({\"messages\":\"1706.03762\"})\n",
    "for m in messages['messages']:\n",
    "    m.pretty_print()"
   ]
  },
  {
   "cell_type": "code",
   "execution_count": 17,
   "id": "30f3ce6c",
   "metadata": {},
   "outputs": [
    {
     "name": "stdout",
     "output_type": "stream",
     "text": [
      "================================\u001b[1m Human Message \u001b[0m=================================\n",
      "\n",
      "What is the recent AI news and then please tell me the recent research paper on quantum computing?\n",
      "==================================\u001b[1m Ai Message \u001b[0m==================================\n",
      "Tool Calls:\n",
      "  tavily_search_results_json (call_v6w7)\n",
      " Call ID: call_v6w7\n",
      "  Args:\n",
      "    query: recent AI news\n",
      "  arxiv (call_49xm)\n",
      " Call ID: call_49xm\n",
      "  Args:\n",
      "    query: quantum computing\n",
      "=================================\u001b[1m Tool Message \u001b[0m=================================\n",
      "Name: tavily_search_results_json\n",
      "\n",
      "[{\"title\": \"The latest AI news we announced in March - Google Blog\", \"url\": \"https://blog.google/technology/ai/google-ai-updates-march-2025/\", \"content\": \"Press corner\\n\\nRSS feed\\n\\nSubscribe\\nBreadcrumb\\n\\n\\nTechnology\\nAI\\n\\nThe latest AI news we announced in March\\nApr 04, 2025\\n·4 min read\\nShare\\nTwitterFacebookLinkedInMail\\nCopy link\\nHere’s a recap of some of our biggest AI updates from March, including Gemini 2.5 Pro, expanded access to AI Overviews, the release of AI Mode and more. [...] March was all about expanding AI across our products to make them even more helpful. The Gemini app was upgraded to include new features like personalization, Canvas and Audio Overviews, and we made our Deep Research and Gems features available at no cost. We also added our speedy Gemini 2.0 Flash Thinking experimental model under the hood — and one-upped ourselves just a few days later by making our most intelligent AI model, Gemini 2.5 Pro (experimental), available to all Gemini users. [...] We launched three new initiatives to protect and restore nature using AI. A startup accelerator, kicking off in May 2025, includes programming, mentoring and technical support from Google. Google.org is also providing $3 million to support AI-enabled solutions for biodiversity, bioeconomy and agriculture from Brazilian nonprofits. And we released SpeciesNet, a Cloud-based, open-source AI model for identifying animal species from camera trap photos, enabling people to protect nature and\", \"score\": 0.82186085}, {\"title\": \"AI News | Latest AI News, Analysis & Events\", \"url\": \"https://www.artificialintelligence-news.com/\", \"content\": \"Marketing Tech News\\nApril 16, 2025\\nOpenAI explores social platform following $40B funding round\\n\\nAI News\\nApril 15, 2025\\nMeta will train AI models using EU user data\\n\\nDeveloper Tech News\\nApril 15, 2025\\nMasquerading payment npm package installs backdoor\\n\\nTelecoms Tech News\\nApril 15, 2025\\nFCC chair calls EU satellite strategy ‘anti-American’\\nSubscribe\\nAll our premium content and latest tech news delivered straight to your inbox\\nSubscribe\\n\\n\\n\\n\\n\\n\\n\\nExplore [...] Artificial Intelligence, Companies, Deep & Reinforcement Learning, Development\\nMarch 6, 2025\\nDeepSeek-R1 reasoning models rival OpenAI in performance\\nArtificial Intelligence, Companies, Deep & Reinforcement Learning, Development\\nJanuary 20, 2025\\nNew AI training techniques aim to overcome current challenges\\nDeep & Reinforcement Learning, Machine Learning, NVIDIA, Research\\nNovember 28, 2024 [...] Applications, Artificial Intelligence, Companies, DeepMind, Google, Industries\\nApril 14, 2025\\nIEA: The opportunities and challenges of AI for global energy\\nApplications, Artificial Intelligence, Energy, Ethics & Society, Industries, Research\\nApril 10, 2025\\nSpot AI introduces the world’s first universal AI agent builder for security cameras\\nApplications, Artificial Intelligence, Healthcare, Security\\nApril 10, 2025\\nDeep Learning\\nAlibaba Qwen QwQ-32B: Scaled reinforcement learning showcase\", \"score\": 0.81025416}, {\"title\": \"AI News & Artificial Intelligence - TechCrunch\", \"url\": \"https://techcrunch.com/category/artificial-intelligence/\", \"content\": \"1 day ago\\n\\n\\n\\nAI\\nOpenAI hires team behind GV-backed AI eval platform Context.ai\\n\\nIvan Mehta\\n\\n1 day ago\\n\\n\\n\\nAI\\nAnthropic forms a new team to grow its AWS business\\n\\nKyle Wiggers\\n\\n2 days ago\\n\\n\\n\\nAI\\nAnthropic’s Claude can now read your Gmail\\n\\nMaxwell Zeff\\n\\n2 days ago\\n\\n\\n\\nAI\\nGoogle’s Veo 2 video generating model comes to Gemini\\n\\nKyle Wiggers\\n\\n2 days ago\\n\\n\\n\\nAI\\nWitness a dynamic dialogue between two visionary CEOs\\n\\nCindy Zackney\\n\\n2 days ago\\n\\n\\n\\nIn Brief [...] Headlines Only\\nLoad More\\n\\n\\n\\nAI\\nxAI adds a ‘memory’ feature to Grok\\n\\nKyle Wiggers\\n\\n4 hours ago\\n\\n\\n\\nIn Brief\\n\\nTrump administration reportedly considers a US DeepSeek ban\\n\\nMaxwell Zeff\\n\\n7 hours ago\\n\\n\\n\\nAI\\nOpenAI’s latest AI models have a new safeguard to prevent biorisks\\n\\nMaxwell Zeff\\n\\n9 hours ago\\n\\n\\n\\nAI\\nOpenAI is reportedly in talks to buy Windsurf for $3B, with news expected later this week\\n\\nMarina Temkin\\n\\n10 hours ago [...] 16 hours ago\\n\\n\\n\\nGovernment & Policy\\nAMD expects $800M charge due to US’ license requirement for AI chips\\n\\nKyle Wiggers\\n\\n17 hours ago\\n\\n\\n\\nAI\\nA dev built a test to see how AI chatbots respond to controversial topics\\n\\nKyle Wiggers\\n\\n18 hours ago\\n\\n\\n\\nAI\\nHammerspace, an unstructured data wrangler used by Meta, raises $100M at $500M+ valuation\\n\\nIngrid Lunden\\n\\n19 hours ago\\n\\n\\n\\nGovernment & Policy\\nGoogle used AI to suspend over 39M ad accounts suspected of fraud\\n\\nJagmeet Singh\\n\\n20 hours ago\", \"score\": 0.7653308}, {\"title\": \"Artificial intelligence - NBC News\", \"url\": \"https://www.nbcnews.com/artificial-intelligence\", \"content\": \"ARTIFICIAL INTELLIGENCE\\nThe latest news and top stories on artificial intelligence, including ChatGPT, AI Chatbot and Bard.\\n Getty Images\\nARTIFICIAL INTELLIGENCE\\n'Billionaires versus billionaires': OpenAI feud between Elon Musk, Sam Altman faces federal judge\\n SeongJoon Cho / Bloomberg via Getty Images file\\nARTIFICIAL INTELLIGENCE\\nOpenAI partners with U.S. National Laboratories on scientific research, nuclear weapons security\\nAI NEWS\", \"score\": 0.7498395}]\n",
      "=================================\u001b[1m Tool Message \u001b[0m=================================\n",
      "Name: arxiv\n",
      "\n",
      "Published: 2022-08-01\n",
      "Title: The Rise of Quantum Internet Computing\n",
      "Authors: Seng W. Loke\n",
      "Summary: This article highlights quantum Internet computing as referring to\n",
      "distributed quantum computing over the quantum Internet, analogous to\n",
      "(classical) Internet computing involving (classical) distributed computing over\n",
      "the (classical) Internet. Relevant to quantum Internet computing would be areas\n",
      "of study such as quantum protocols for distributed nodes using quantum\n",
      "information for computations, quantum cloud computing, delegated verifiable\n",
      "blind or private computing, non-local gates, and distributed quantum\n",
      "applications, over Internet-scale distances.\n",
      "\n",
      "Published: 2000-03-31\n",
      "Title: Unconventional Quantum Computing Devices\n",
      "Authors: Seth Lloyd\n",
      "Summary: This paper investigates a variety of unconventional quantum computation\n",
      "devices, including fermionic quantum computers and computers that exploit\n",
      "nonlinear quantum mechanics. It is shown that unconventional quantum computing\n",
      "devices can in principle compute some quantities more rapidly than\n",
      "`conventional' quantum computers.\n"
     ]
    }
   ],
   "source": [
    "messages=graph.invoke({\"messages\":\"What is the recent AI news and then please tell me the recent research paper on quantum computing?\"})\n",
    "for m in messages['messages']:\n",
    "    m.pretty_print()"
   ]
  },
  {
   "cell_type": "code",
   "execution_count": null,
   "id": "05194ea6",
   "metadata": {},
   "outputs": [],
   "source": []
  },
  {
   "cell_type": "code",
   "execution_count": null,
   "id": "6f94300d",
   "metadata": {},
   "outputs": [],
   "source": []
  },
  {
   "cell_type": "code",
   "execution_count": null,
   "metadata": {},
   "outputs": [],
   "source": []
  },
  {
   "cell_type": "code",
   "execution_count": null,
   "id": "53f6f0cc",
   "metadata": {},
   "outputs": [],
   "source": []
  },
  {
   "cell_type": "code",
   "execution_count": null,
   "id": "18147cfc",
   "metadata": {},
   "outputs": [],
   "source": []
  },
  {
   "cell_type": "code",
   "execution_count": null,
   "id": "0b6172f8",
   "metadata": {},
   "outputs": [],
   "source": []
  },
  {
   "cell_type": "code",
   "execution_count": null,
   "id": "c7098062",
   "metadata": {},
   "outputs": [],
   "source": []
  },
  {
   "cell_type": "code",
   "execution_count": null,
   "metadata": {},
   "outputs": [],
   "source": []
  },
  {
   "cell_type": "code",
   "execution_count": null,
   "id": "04c95c4d",
   "metadata": {},
   "outputs": [],
   "source": []
  },
  {
   "cell_type": "code",
   "execution_count": null,
   "metadata": {},
   "outputs": [],
   "source": []
  },
  {
   "cell_type": "code",
   "execution_count": null,
   "id": "f99c2817",
   "metadata": {},
   "outputs": [],
   "source": []
  },
  {
   "cell_type": "code",
   "execution_count": null,
   "id": "254642a8",
   "metadata": {},
   "outputs": [],
   "source": []
  }
 ],
 "metadata": {
  "kernelspec": {
   "display_name": "myenv",
   "language": "python",
   "name": "python3"
  },
  "language_info": {
   "codemirror_mode": {
    "name": "ipython",
    "version": 3
   },
   "file_extension": ".py",
   "mimetype": "text/x-python",
   "name": "python",
   "nbconvert_exporter": "python",
   "pygments_lexer": "ipython3",
   "version": "3.11.11"
  }
 },
 "nbformat": 4,
 "nbformat_minor": 5
}
